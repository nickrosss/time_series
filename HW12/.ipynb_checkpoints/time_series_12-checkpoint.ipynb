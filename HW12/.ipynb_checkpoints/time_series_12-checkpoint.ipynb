{
 "cells": [
  {
   "cell_type": "code",
   "execution_count": null,
   "outputs": [],
   "source": [
    "import os\n",
    "from os import path\n",
    "import pandas as pd\n",
    "from keras.models import Sequential\n",
    "from keras.layers import LSTM, Dense\n",
    "from sklearn.preprocessing import MinMaxScaler\n",
    "import matplotlib.pyplot as plt\n",
    "\n",
    "if not 'BASE_DIR' in locals():\n",
    "    BASE_DIR = os.path.abspath(os.curdir)\n",
    "if os.path.abspath(os.curdir) == BASE_DIR:\n",
    "    os.chdir('../')\n",
    "\n",
    "dirname = os.path.abspath(os.curdir) + r'\\data'\n",
    "data = pd.read_csv(path.join(os.sep, dirname, 'manual_30min_norm.csv'))\n",
    "\n",
    "# Преобразование столбца 'TIME' в формат datetime\n",
    "data['TIME'] = pd.to_datetime(data['TIME'])\n",
    "\n",
    "# Преобразование столбца 'TIME' в числовой формат (unix timestamp)\n",
    "data['TIME'] = (data['TIME'] - pd.Timestamp(\"1970-01-01\")) // pd.Timedelta('1s')\n",
    "data.head()"
   ],
   "metadata": {
    "collapsed": false,
    "pycharm": {
     "name": "#%%\n"
    }
   }
  },
  {
   "cell_type": "code",
   "execution_count": null,
   "outputs": [],
   "source": [
    "# Предобработка данных\n",
    "scaler = MinMaxScaler(feature_range=(0, 1))\n",
    "scaled_data = scaler.fit_transform(data)\n",
    "\n",
    "# Разделение данных на обучающую и тестовую выборки\n",
    "train_length = int(len(scaled_data) * 0.7)\n",
    "test_length = len(scaled_data) - train_length\n",
    "train_data = scaled_data[0:train_length,:]\n",
    "test_data = scaled_data[train_length:len(scaled_data),:]\n",
    "\n",
    "X = scaled_data[:, 1:]\n",
    "y = scaled_data[:, 0]\n",
    "\n",
    "# Разделение данных на обучающую и тестовую выборки\n",
    "train_X = X[0:train_length]\n",
    "train_y = y[0:train_length]\n",
    "test_X = X[train_length:]\n",
    "test_y = y[train_length:]\n",
    "\n",
    "# Создание модели LSTM\n",
    "model = Sequential()\n",
    "model.add(LSTM(100, input_shape=(train_X.shape[1], 1)))\n",
    "model.add(Dense(1))\n",
    "model.compile(loss='mean_squared_error', optimizer='adam')\n",
    "\n",
    "# Обучение модели\n",
    "model.fit(train_X, train_y, epochs=20, batch_size=1, verbose=2)\n",
    "\n",
    "# Предсказание\n",
    "predictions = model.predict(test_X)"
   ],
   "metadata": {
    "collapsed": false,
    "pycharm": {
     "name": "#%%\n"
    }
   }
  },
  {
   "cell_type": "code",
   "execution_count": null,
   "outputs": [],
   "source": [
    "# Визуализация результатов\n",
    "plt.figure(figsize=(8,4))\n",
    "plt.plot(test_y, color='blue', label='Реальные данные')\n",
    "plt.plot(predictions, color='red', label='Прогноз')\n",
    "plt.title('Прогноз и реальные данные')\n",
    "plt.xlabel('Время')\n",
    "plt.ylabel('Значение')\n",
    "plt.legend()\n",
    "plt.show()"
   ],
   "metadata": {
    "collapsed": false,
    "pycharm": {
     "name": "#%%\n"
    }
   }
  },
  {
   "cell_type": "code",
   "execution_count": null,
   "outputs": [],
   "source": [
    "import tensorflow as tf\n",
    "print(tf.config.list_physical_devices())"
   ],
   "metadata": {
    "collapsed": false,
    "pycharm": {
     "name": "#%%\n"
    }
   }
  },
  {
   "cell_type": "code",
   "execution_count": null,
   "outputs": [],
   "source": [],
   "metadata": {
    "collapsed": false,
    "pycharm": {
     "name": "#%%\n"
    }
   }
  }
 ],
 "metadata": {
  "colab": {
   "provenance": []
  },
  "kernelspec": {
   "display_name": "Python 3",
   "name": "python3"
  },
  "language_info": {
   "codemirror_mode": {
    "name": "ipython",
    "version": 3
   },
   "file_extension": ".py",
   "mimetype": "text/x-python",
   "name": "python",
   "nbconvert_exporter": "python",
   "pygments_lexer": "ipython3",
   "version": "3.10.10"
  }
 },
 "nbformat": 4,
 "nbformat_minor": 0
}