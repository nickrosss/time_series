{
  "nbformat": 4,
  "nbformat_minor": 0,
  "metadata": {
    "colab": {
      "provenance": []
    },
    "kernelspec": {
      "name": "python3",
      "display_name": "Python 3"
    },
    "language_info": {
      "name": "python"
    }
  },
  "cells": [
    {
      "cell_type": "code",
      "execution_count": null,
      "metadata": {
        "id": "dLe62piuIAM3"
      },
      "outputs": [],
      "source": [
        "import os\n",
        "from os import path\n",
        "from matplotlib import pyplot as plt\n",
        "import pandas as pd\n",
        "\n",
        "if not 'BASE_DIR' in locals():\n",
        "    BASE_DIR = os.path.abspath(os.curdir)"
      ]
    },
    {
      "cell_type": "code",
      "source": [
        "if os.path.abspath(os.curdir) == BASE_DIR:\n",
        "    os.chdir('../')\n",
        "\n",
        "dirname = os.path.abspath(os.curdir) + r'\\data'\n",
        "df = pd.read_csv(path.join(os.sep, dirname, 'Annual snowfall in Chicago 1939 to 1978.csv'))\n",
        "df.head()"
      ],
      "metadata": {
        "id": "FGRsMM6gJ9Ht"
      },
      "execution_count": null,
      "outputs": []
    }
  ]
}